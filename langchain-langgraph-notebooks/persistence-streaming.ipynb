{
 "cells": [
  {
   "cell_type": "markdown",
   "metadata": {},
   "source": [
    "# Persistence and Streaming"
   ]
  },
  {
   "cell_type": "code",
   "execution_count": 18,
   "metadata": {},
   "outputs": [],
   "source": [
    "from dotenv import load_dotenv\n",
    "\n",
    "_ = load_dotenv()"
   ]
  },
  {
   "cell_type": "code",
   "execution_count": 19,
   "metadata": {},
   "outputs": [],
   "source": [
    "from langgraph.graph import StateGraph, END\n",
    "from typing import TypedDict, Annotated\n",
    "import operator\n",
    "from langchain_core.messages import AnyMessage, SystemMessage, HumanMessage, ToolMessage\n",
    "from langchain_openai import ChatOpenAI\n",
    "from langchain_community.tools.tavily_search import TavilySearchResults"
   ]
  },
  {
   "cell_type": "code",
   "execution_count": 20,
   "metadata": {},
   "outputs": [],
   "source": [
    "tool = TavilySearchResults(max_results=2)"
   ]
  },
  {
   "cell_type": "code",
   "execution_count": 21,
   "metadata": {},
   "outputs": [],
   "source": [
    "class AgentState(TypedDict):\n",
    "    messages: Annotated[list[AnyMessage], operator.add]"
   ]
  },
  {
   "cell_type": "code",
   "execution_count": 22,
   "metadata": {},
   "outputs": [],
   "source": [
    "from langgraph.checkpoint.sqlite import SqliteSaver\n",
    "memory = SqliteSaver.from_conn_string(\":memory:\")"
   ]
  },
  {
   "cell_type": "code",
   "execution_count": 23,
   "metadata": {},
   "outputs": [],
   "source": [
    "class Agent:\n",
    "    def __init__(self, model, tools, checkpointer, system=\"\"):\n",
    "        self.system = system\n",
    "        graph = StateGraph(AgentState)\n",
    "        graph.add_node(\"llm\", self.call_openai)\n",
    "        graph.add_node(\"action\", self.take_action)\n",
    "        graph.add_conditional_edges(\"llm\", self.exists_action, {True: \"action\", False: END})\n",
    "        graph.add_edge(\"action\", \"llm\")\n",
    "        graph.set_entry_point(\"llm\")\n",
    "        \n",
    "        # THIS CHECKPOINTER SAVES CONVERSATIONS IN A SQLLITE DATABASE. WE CAN USE AN EXTERNAL DATABASE AS WELL\n",
    "        self.graph = graph.compile(checkpointer=checkpointer) \n",
    "        self.tools = {t.name: t for t in tools}\n",
    "        self.model = model.bind_tools(tools)\n",
    "\n",
    "    def call_openai(self, state: AgentState):\n",
    "        messages = state['messages']\n",
    "        if self.system:\n",
    "            messages = [SystemMessage(content=self.system)] + messages\n",
    "        message = self.model.invoke(messages)\n",
    "        return {'messages': [message]}\n",
    "\n",
    "    def exists_action(self, state: AgentState):\n",
    "        result = state['messages'][-1]\n",
    "        return len(result.tool_calls) > 0\n",
    "\n",
    "    def take_action(self, state: AgentState):\n",
    "        tool_calls = state['messages'][-1].tool_calls\n",
    "        results = []\n",
    "        for t in tool_calls:\n",
    "            print(f\"Calling: {t}\")\n",
    "            result = self.tools[t['name']].invoke(t['args'])\n",
    "            results.append(ToolMessage(tool_call_id=t['id'], name=t['name'], content=str(result)))\n",
    "        print(\"Back to the model!\")\n",
    "        return {'messages': results}"
   ]
  },
  {
   "cell_type": "code",
   "execution_count": 24,
   "metadata": {},
   "outputs": [],
   "source": [
    "prompt = \"\"\"You are a smart research assistant. Use the search engine to look up information. \\\n",
    "You are allowed to make multiple calls (either together or in sequence). \\\n",
    "Only look up information when you are sure of what you want. \\\n",
    "If you need to look up some information before asking a follow up question, you are allowed to do that!\n",
    "\"\"\"\n",
    "model = ChatOpenAI(model=\"gpt-4o\")\n",
    "abot = Agent(model, [tool], system=prompt, checkpointer=memory)"
   ]
  },
  {
   "cell_type": "code",
   "execution_count": 25,
   "metadata": {},
   "outputs": [],
   "source": [
    "messages = [HumanMessage(content=\"What is the weather in Rio de Janeiro, Brazil?\")]"
   ]
  },
  {
   "cell_type": "code",
   "execution_count": 26,
   "metadata": {},
   "outputs": [],
   "source": [
    "thread = {\"configurable\": {\"thread_id\": \"1\"}} # ALLOWS US TO HAVE MULTIPLE CONVERSATIONS AT THE SAME TIME"
   ]
  },
  {
   "cell_type": "code",
   "execution_count": 27,
   "metadata": {},
   "outputs": [
    {
     "name": "stdout",
     "output_type": "stream",
     "text": [
      "[AIMessage(content='', additional_kwargs={'tool_calls': [{'id': 'call_v2yzUjkZgGuO6MpGf61CpUOB', 'function': {'arguments': '{\"query\":\"current weather in Rio de Janeiro, Brazil\"}', 'name': 'tavily_search_results_json'}, 'type': 'function'}]}, response_metadata={'token_usage': {'completion_tokens': 25, 'prompt_tokens': 155, 'total_tokens': 180}, 'model_name': 'gpt-4o-2024-05-13', 'system_fingerprint': 'fp_ce0793330f', 'finish_reason': 'tool_calls', 'logprobs': None}, id='run-66e653ba-eb59-49b4-b462-530d4ae2c827-0', tool_calls=[{'name': 'tavily_search_results_json', 'args': {'query': 'current weather in Rio de Janeiro, Brazil'}, 'id': 'call_v2yzUjkZgGuO6MpGf61CpUOB'}], usage_metadata={'input_tokens': 155, 'output_tokens': 25, 'total_tokens': 180})]\n",
      "Calling: {'name': 'tavily_search_results_json', 'args': {'query': 'current weather in Rio de Janeiro, Brazil'}, 'id': 'call_v2yzUjkZgGuO6MpGf61CpUOB'}\n",
      "Back to the model!\n",
      "[ToolMessage(content='[{\\'url\\': \\'https://www.wunderground.com/weather/br/rio-de-janeiro\\', \\'content\\': \\'Elev 12 ft, 22.91 °S, 43.21 °W. Rio de Janeiro, Rio de Janeiro, Brazil Weather Conditionsstar_ratehome. icon 70 °F Laranjeiras Station|Report.\\'}, {\\'url\\': \\'https://www.weatherapi.com/\\', \\'content\\': \"{\\'location\\': {\\'name\\': \\'Rio De Janeiro\\', \\'region\\': \\'Rio de Janeiro\\', \\'country\\': \\'Brazil\\', \\'lat\\': -22.9, \\'lon\\': -43.23, \\'tz_id\\': \\'America/Sao_Paulo\\', \\'localtime_epoch\\': 1720531473, \\'localtime\\': \\'2024-07-09 10:24\\'}, \\'current\\': {\\'last_updated_epoch\\': 1720530900, \\'last_updated\\': \\'2024-07-09 10:15\\', \\'temp_c\\': 21.1, \\'temp_f\\': 70.0, \\'is_day\\': 1, \\'condition\\': {\\'text\\': \\'Overcast\\', \\'icon\\': \\'//cdn.weatherapi.com/weather/64x64/day/122.png\\', \\'code\\': 1009}, \\'wind_mph\\': 6.9, \\'wind_kph\\': 11.2, \\'wind_degree\\': 180, \\'wind_dir\\': \\'S\\', \\'pressure_mb\\': 1017.0, \\'pressure_in\\': 30.03, \\'precip_mm\\': 0.0, \\'precip_in\\': 0.0, \\'humidity\\': 83, \\'cloud\\': 100, \\'feelslike_c\\': 21.1, \\'feelslike_f\\': 70.0, \\'windchill_c\\': 23.3, \\'windchill_f\\': 73.9, \\'heatindex_c\\': 25.2, \\'heatindex_f\\': 77.3, \\'dewpoint_c\\': 18.3, \\'dewpoint_f\\': 65.0, \\'vis_km\\': 10.0, \\'vis_miles\\': 6.0, \\'uv\\': 7.0, \\'gust_mph\\': 11.4, \\'gust_kph\\': 18.4}}\"}]', name='tavily_search_results_json', tool_call_id='call_v2yzUjkZgGuO6MpGf61CpUOB')]\n",
      "[AIMessage(content='The current weather in Rio de Janeiro, Brazil is as follows:\\n\\n- **Temperature**: 21.1°C (70.0°F)\\n- **Condition**: Overcast\\n- **Humidity**: 83%\\n- **Wind**: 11.2 km/h (6.9 mph) coming from the south\\n- **Pressure**: 1017.0 mb (30.03 in)\\n- **Visibility**: 10 km (6 miles)\\n- **UV Index**: 7\\n\\nYou can find more detailed and updated information on websites like [Weather Underground](https://www.wunderground.com/weather/br/rio-de-janeiro) or [WeatherAPI](https://www.weatherapi.com/).', response_metadata={'token_usage': {'completion_tokens': 150, 'prompt_tokens': 669, 'total_tokens': 819}, 'model_name': 'gpt-4o-2024-05-13', 'system_fingerprint': 'fp_d576307f90', 'finish_reason': 'stop', 'logprobs': None}, id='run-2a1b950d-23d2-46d2-9485-75af2c1dd6f3-0', usage_metadata={'input_tokens': 669, 'output_tokens': 150, 'total_tokens': 819})]\n"
     ]
    }
   ],
   "source": [
    "for event in abot.graph.stream({\"messages\": messages}, thread):\n",
    "    for v in event.values():\n",
    "        print(v['messages'])"
   ]
  },
  {
   "cell_type": "code",
   "execution_count": 28,
   "metadata": {},
   "outputs": [
    {
     "name": "stdout",
     "output_type": "stream",
     "text": [
      "{'messages': [AIMessage(content='', additional_kwargs={'tool_calls': [{'id': 'call_1ikzSo6QDTfCOWne8w4nogkc', 'function': {'arguments': '{\"query\":\"current weather in La Plata, Argentina\"}', 'name': 'tavily_search_results_json'}, 'type': 'function'}]}, response_metadata={'token_usage': {'completion_tokens': 24, 'prompt_tokens': 834, 'total_tokens': 858}, 'model_name': 'gpt-4o-2024-05-13', 'system_fingerprint': 'fp_d576307f90', 'finish_reason': 'tool_calls', 'logprobs': None}, id='run-2e488d77-71ed-4cdb-99b4-0306e9bc512a-0', tool_calls=[{'name': 'tavily_search_results_json', 'args': {'query': 'current weather in La Plata, Argentina'}, 'id': 'call_1ikzSo6QDTfCOWne8w4nogkc'}], usage_metadata={'input_tokens': 834, 'output_tokens': 24, 'total_tokens': 858})]}\n",
      "Calling: {'name': 'tavily_search_results_json', 'args': {'query': 'current weather in La Plata, Argentina'}, 'id': 'call_1ikzSo6QDTfCOWne8w4nogkc'}\n",
      "Back to the model!\n",
      "{'messages': [ToolMessage(content=\"[{'url': 'https://www.ventusky.com/la-plata', 'content': 'Air quality index (marked as AQI) is developed by Environmental Protection Agency. Values over 300 represents hazardous air quality, between 200-300 very unhealthy, 150-200 unhealthy, 100-150 unhealthy for sensitive groups and below 100 or rather below 50 the air quality is good.'}, {'url': 'https://www.accuweather.com/en/ar/la-plata/7892/weather-forecast/7892', 'content': 'La Plata, Buenos Aires, Argentina Weather Forecast, with current conditions, wind, air quality, and what to expect for the next 3 days.'}]\", name='tavily_search_results_json', tool_call_id='call_1ikzSo6QDTfCOWne8w4nogkc')]}\n",
      "{'messages': [AIMessage(content='', additional_kwargs={'tool_calls': [{'id': 'call_EYpZv3EycxI8AAtCuiheVNrx', 'function': {'arguments': '{\"query\": \"current weather in La Plata Buenos Aires Argentina\"}', 'name': 'tavily_search_results_json'}, 'type': 'function'}, {'id': 'call_gqqI1fe3l4skJR35sWOSYTJl', 'function': {'arguments': '{\"query\": \"La Plata Argentina weather AccuWeather\"}', 'name': 'tavily_search_results_json'}, 'type': 'function'}]}, response_metadata={'token_usage': {'completion_tokens': 65, 'prompt_tokens': 1015, 'total_tokens': 1080}, 'model_name': 'gpt-4o-2024-05-13', 'system_fingerprint': 'fp_d576307f90', 'finish_reason': 'tool_calls', 'logprobs': None}, id='run-9c7e52cb-4bf7-4a82-8fc2-f44c44bbf99f-0', tool_calls=[{'name': 'tavily_search_results_json', 'args': {'query': 'current weather in La Plata Buenos Aires Argentina'}, 'id': 'call_EYpZv3EycxI8AAtCuiheVNrx'}, {'name': 'tavily_search_results_json', 'args': {'query': 'La Plata Argentina weather AccuWeather'}, 'id': 'call_gqqI1fe3l4skJR35sWOSYTJl'}], usage_metadata={'input_tokens': 1015, 'output_tokens': 65, 'total_tokens': 1080})]}\n",
      "Calling: {'name': 'tavily_search_results_json', 'args': {'query': 'current weather in La Plata Buenos Aires Argentina'}, 'id': 'call_EYpZv3EycxI8AAtCuiheVNrx'}\n",
      "Calling: {'name': 'tavily_search_results_json', 'args': {'query': 'La Plata Argentina weather AccuWeather'}, 'id': 'call_gqqI1fe3l4skJR35sWOSYTJl'}\n",
      "Back to the model!\n",
      "{'messages': [ToolMessage(content='[{\\'url\\': \\'https://weather.com/weather/tenday/l/8472c5448988aa94a58a151d8f1e9fc4ac981001b4b65d4d3e668081fadc5aa9\\', \\'content\\': \\'10 Day Weather-La Plata, Buenos Aires Province, Argentina. As of 12:50 pm GMT-03:00. Today. 65°/40°. 1%. Tue 02 | Day. 65°. 1%. NW 11 mph. Lots of sunshine.\\'}, {\\'url\\': \\'https://www.weatherapi.com/\\', \\'content\\': \"{\\'location\\': {\\'name\\': \\'La Plata\\', \\'region\\': \\'Buenos Aires\\', \\'country\\': \\'Argentina\\', \\'lat\\': -34.93, \\'lon\\': -57.95, \\'tz_id\\': \\'America/Argentina/Buenos_Aires\\', \\'localtime_epoch\\': 1720531486, \\'localtime\\': \\'2024-07-09 10:24\\'}, \\'current\\': {\\'last_updated_epoch\\': 1720530900, \\'last_updated\\': \\'2024-07-09 10:15\\', \\'temp_c\\': 6.2, \\'temp_f\\': 43.2, \\'is_day\\': 1, \\'condition\\': {\\'text\\': \\'Partly cloudy\\', \\'icon\\': \\'//cdn.weatherapi.com/weather/64x64/day/116.png\\', \\'code\\': 1003}, \\'wind_mph\\': 12.5, \\'wind_kph\\': 20.2, \\'wind_degree\\': 170, \\'wind_dir\\': \\'S\\', \\'pressure_mb\\': 1029.0, \\'pressure_in\\': 30.39, \\'precip_mm\\': 0.0, \\'precip_in\\': 0.0, \\'humidity\\': 70, \\'cloud\\': 50, \\'feelslike_c\\': 4.3, \\'feelslike_f\\': 39.8, \\'windchill_c\\': 0.8, \\'windchill_f\\': 33.5, \\'heatindex_c\\': 3.3, \\'heatindex_f\\': 37.9, \\'dewpoint_c\\': -5.4, \\'dewpoint_f\\': 22.3, \\'vis_km\\': 10.0, \\'vis_miles\\': 6.0, \\'uv\\': 3.0, \\'gust_mph\\': 17.0, \\'gust_kph\\': 27.4}}\"}]', name='tavily_search_results_json', tool_call_id='call_EYpZv3EycxI8AAtCuiheVNrx'), ToolMessage(content='[{\\'url\\': \\'https://www.weatherapi.com/\\', \\'content\\': \"{\\'location\\': {\\'name\\': \\'La Plata\\', \\'region\\': \\'Buenos Aires\\', \\'country\\': \\'Argentina\\', \\'lat\\': -34.93, \\'lon\\': -57.95, \\'tz_id\\': \\'America/Argentina/Buenos_Aires\\', \\'localtime_epoch\\': 1720531446, \\'localtime\\': \\'2024-07-09 10:24\\'}, \\'current\\': {\\'last_updated_epoch\\': 1720530900, \\'last_updated\\': \\'2024-07-09 10:15\\', \\'temp_c\\': 1.3, \\'temp_f\\': 34.3, \\'is_day\\': 1, \\'condition\\': {\\'text\\': \\'Sunny\\', \\'icon\\': \\'//cdn.weatherapi.com/weather/64x64/day/113.png\\', \\'code\\': 1000}, \\'wind_mph\\': 2.2, \\'wind_kph\\': 3.6, \\'wind_degree\\': 10, \\'wind_dir\\': \\'N\\', \\'pressure_mb\\': 1030.0, \\'pressure_in\\': 30.42, \\'precip_mm\\': 0.0, \\'precip_in\\': 0.0, \\'humidity\\': 75, \\'cloud\\': 0, \\'feelslike_c\\': -1.5, \\'feelslike_f\\': 29.3, \\'windchill_c\\': 0.8, \\'windchill_f\\': 33.5, \\'heatindex_c\\': 3.3, \\'heatindex_f\\': 37.9, \\'dewpoint_c\\': -5.4, \\'dewpoint_f\\': 22.3, \\'vis_km\\': 10.0, \\'vis_miles\\': 6.0, \\'uv\\': 3.0, \\'gust_mph\\': 7.5, \\'gust_kph\\': 12.1}}\"}, {\\'url\\': \\'https://www.accuweather.com/en/ar/la-plata/7892/weather-forecast/7892\\', \\'content\\': \\'La Plata, Buenos Aires, Argentina Weather Forecast, with current conditions, wind, air quality, and what to expect for the next 3 days.\\'}]', name='tavily_search_results_json', tool_call_id='call_gqqI1fe3l4skJR35sWOSYTJl')]}\n",
      "{'messages': [AIMessage(content='The current weather in La Plata, Buenos Aires, Argentina is as follows:\\n\\n- **Temperature**: 1.3°C (34.3°F)\\n- **Condition**: Sunny\\n- **Humidity**: 75%\\n- **Wind**: 3.6 km/h (2.2 mph) coming from the north\\n- **Pressure**: 1030.0 mb (30.42 in)\\n- **Visibility**: 10 km (6 miles)\\n- **UV Index**: 3\\n\\nYou can find more detailed and updated information on websites like [Weather.com](https://weather.com/weather/tenday/l/8472c5448988aa94a58a151d8f1e9fc4ac981001b4b65d4d3e668081fadc5aa9) or [AccuWeather](https://www.accuweather.com/en/ar/la-plata/7892/weather-forecast/7892).', response_metadata={'token_usage': {'completion_tokens': 200, 'prompt_tokens': 2091, 'total_tokens': 2291}, 'model_name': 'gpt-4o-2024-05-13', 'system_fingerprint': 'fp_4008e3b719', 'finish_reason': 'stop', 'logprobs': None}, id='run-38300560-88ec-43dd-abf6-ec35f60ea782-0', usage_metadata={'input_tokens': 2091, 'output_tokens': 200, 'total_tokens': 2291})]}\n"
     ]
    }
   ],
   "source": [
    "messages = [HumanMessage(content=\"What about in La Plata, Argentina?\")]\n",
    "thread = {\"configurable\": {\"thread_id\": \"1\"}}\n",
    "for event in abot.graph.stream({\"messages\": messages}, thread):\n",
    "    for v in event.values():\n",
    "        print(v)"
   ]
  },
  {
   "cell_type": "code",
   "execution_count": 29,
   "metadata": {},
   "outputs": [
    {
     "name": "stdout",
     "output_type": "stream",
     "text": [
      "{'messages': [AIMessage(content='Currently, Rio de Janeiro, Brazil is warmer than La Plata, Argentina.\\n\\n- **Rio de Janeiro**: 21.1°C (70.0°F)\\n- **La Plata**: 1.3°C (34.3°F)', response_metadata={'token_usage': {'completion_tokens': 51, 'prompt_tokens': 2303, 'total_tokens': 2354}, 'model_name': 'gpt-4o-2024-05-13', 'system_fingerprint': 'fp_ce0793330f', 'finish_reason': 'stop', 'logprobs': None}, id='run-b1e5cf97-7730-4edb-833d-8c2c2a3f78bf-0', usage_metadata={'input_tokens': 2303, 'output_tokens': 51, 'total_tokens': 2354})]}\n"
     ]
    }
   ],
   "source": [
    "messages = [HumanMessage(content=\"Which one is warmer?\")]\n",
    "thread = {\"configurable\": {\"thread_id\": \"1\"}}\n",
    "for event in abot.graph.stream({\"messages\": messages}, thread):\n",
    "    for v in event.values():\n",
    "        print(v)"
   ]
  },
  {
   "cell_type": "code",
   "execution_count": 30,
   "metadata": {},
   "outputs": [
    {
     "name": "stdout",
     "output_type": "stream",
     "text": [
      "{'messages': [AIMessage(content='Could you please clarify what you would like to compare in terms of warmth? Are you asking about:\\n\\n1. The temperature difference between two locations?\\n2. The warmth of different types of clothing or materials?\\n3. The warmth of different seasons or times of the year?\\n\\nProviding more context will help me give you a precise answer.', response_metadata={'token_usage': {'completion_tokens': 67, 'prompt_tokens': 149, 'total_tokens': 216}, 'model_name': 'gpt-4o-2024-05-13', 'system_fingerprint': 'fp_ce0793330f', 'finish_reason': 'stop', 'logprobs': None}, id='run-c6c64f4b-d764-4aac-8d1d-ceaf1293685a-0', usage_metadata={'input_tokens': 149, 'output_tokens': 67, 'total_tokens': 216})]}\n"
     ]
    }
   ],
   "source": [
    "messages = [HumanMessage(content=\"Which one is warmer?\")]\n",
    "thread = {\"configurable\": {\"thread_id\": \"2\"}}\n",
    "for event in abot.graph.stream({\"messages\": messages}, thread):\n",
    "    for v in event.values():\n",
    "        print(v)"
   ]
  },
  {
   "cell_type": "markdown",
   "metadata": {},
   "source": [
    "## Streaming tokens"
   ]
  },
  {
   "cell_type": "code",
   "execution_count": null,
   "metadata": {},
   "outputs": [],
   "source": [
    "from langgraph.checkpoint.aiosqlite import AsyncSqliteSaver\n",
    "\n",
    "memory = AsyncSqliteSaver.from_conn_string(\":memory:\")\n",
    "abot = Agent(model, [tool], system=prompt, checkpointer=memory)"
   ]
  },
  {
   "cell_type": "code",
   "execution_count": null,
   "metadata": {},
   "outputs": [],
   "source": [
    "messages = [HumanMessage(content=\"What is the weather in SF?\")]\n",
    "thread = {\"configurable\": {\"thread_id\": \"4\"}}\n",
    "async for event in abot.graph.astream_events({\"messages\": messages}, thread, version=\"v1\"):\n",
    "    kind = event[\"event\"]\n",
    "    if kind == \"on_chat_model_stream\":\n",
    "        content = event[\"data\"][\"chunk\"].content\n",
    "        if content:\n",
    "            # Empty content in the context of OpenAI means\n",
    "            # that the model is asking for a tool to be invoked.\n",
    "            # So we only print non-empty content\n",
    "            print(content, end=\"|\")"
   ]
  }
 ],
 "metadata": {
  "kernelspec": {
   "display_name": ".venv",
   "language": "python",
   "name": "python3"
  },
  "language_info": {
   "codemirror_mode": {
    "name": "ipython",
    "version": 3
   },
   "file_extension": ".py",
   "mimetype": "text/x-python",
   "name": "python",
   "nbconvert_exporter": "python",
   "pygments_lexer": "ipython3",
   "version": "3.11.6"
  }
 },
 "nbformat": 4,
 "nbformat_minor": 2
}
