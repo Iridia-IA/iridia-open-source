{
 "cells": [
  {
   "cell_type": "markdown",
   "metadata": {},
   "source": [
    "# BASIC AGENT LANGGRAPH"
   ]
  },
  {
   "cell_type": "code",
   "execution_count": 1,
   "metadata": {},
   "outputs": [],
   "source": [
    "from dotenv import load_dotenv\n",
    "_ = load_dotenv()"
   ]
  },
  {
   "cell_type": "code",
   "execution_count": 2,
   "metadata": {},
   "outputs": [],
   "source": [
    "from langgraph.graph import StateGraph, END\n",
    "from typing import TypedDict, Annotated\n",
    "import operator\n",
    "from langchain_core.messages import AnyMessage, SystemMessage, HumanMessage, ToolMessage\n",
    "from langchain_openai import ChatOpenAI\n",
    "from langchain_community.tools.tavily_search import TavilySearchResults"
   ]
  },
  {
   "cell_type": "code",
   "execution_count": 3,
   "metadata": {},
   "outputs": [
    {
     "name": "stdout",
     "output_type": "stream",
     "text": [
      "<class 'langchain_community.tools.tavily_search.tool.TavilySearchResults'>\n",
      "tavily_search_results_json\n"
     ]
    }
   ],
   "source": [
    "tool = TavilySearchResults(max_results=2) #increased number of results\n",
    "print(type(tool))\n",
    "print(tool.name)"
   ]
  },
  {
   "cell_type": "code",
   "execution_count": 4,
   "metadata": {},
   "outputs": [],
   "source": [
    "class AgentState(TypedDict):\n",
    "    messages: Annotated[list[AnyMessage], operator.add]"
   ]
  },
  {
   "cell_type": "code",
   "execution_count": 5,
   "metadata": {},
   "outputs": [],
   "source": [
    "class Agent:\n",
    "\n",
    "    def __init__(self, model, tools, system=\"\"):\n",
    "        self.system = system\n",
    "        graph = StateGraph(AgentState)\n",
    "        graph.add_node(\"llm\", self.call_openai) # add the LLM node\n",
    "        graph.add_node(\"action\", self.take_action) # add the action node\n",
    "        graph.add_conditional_edges( \n",
    "            \"llm\",\n",
    "            self.exists_action,\n",
    "            {True: \"action\", False: END}\n",
    "        ) # add the conditional edge, if the LLM returns a tool call, then take the action node, otherwise, end the graph\n",
    "        graph.add_edge(\"action\", \"llm\") # add the edge from the action node to the LLM node, an edge is a connection between nodes\n",
    "        graph.set_entry_point(\"llm\") # set the entry point of the graph to the LLM node, this means that the graph will start at the LLM node\n",
    "        self.graph = graph.compile() # compile the graph into a callable function\n",
    "        self.tools = {t.name: t for t in tools} # bind the tools to the agent\n",
    "        self.model = model.bind_tools(tools) # bind the model to the tools\n",
    "\n",
    "    def exists_action(self, state: AgentState):\n",
    "        \"\"\"\n",
    "        Check if the LLM has returned an action call in the last message. \n",
    "        params:\n",
    "            state: The current state of the agent.\n",
    "        returns:\n",
    "            True if the LLM has returned an action call, False otherwise.\n",
    "        \"\"\"\n",
    "        result = state['messages'][-1]\n",
    "        return len(result.tool_calls) > 0\n",
    "\n",
    "    def call_openai(self, state: AgentState):\n",
    "        \"\"\"\n",
    "        Call the OpenAI model to get a response to the current message.\n",
    "        params:\n",
    "            state: The current state of the agent.\n",
    "        returns:\n",
    "            The response from the OpenAI model.\n",
    "        \"\"\"\n",
    "        \n",
    "        messages = state['messages']\n",
    "        if self.system:\n",
    "            messages = [SystemMessage(content=self.system)] + messages\n",
    "        message = self.model.invoke(messages)\n",
    "        return {'messages': [message]}\n",
    "\n",
    "    def take_action(self, state: AgentState):\n",
    "        \"\"\"\n",
    "        Take an action based on the tool calls in the last message.\n",
    "        params:\n",
    "            state: The current state of the agent.\n",
    "        returns:\n",
    "            The response from the OpenAI model.\n",
    "        \"\"\"\n",
    "        \n",
    "        \n",
    "        tool_calls = state['messages'][-1].tool_calls\n",
    "        results = []\n",
    "        for t in tool_calls:\n",
    "            print(f\"Calling: {t}\")\n",
    "            if not t['name'] in self.tools:      # check for bad tool name from LLM\n",
    "                print(\"\\n ....bad tool name....\")\n",
    "                result = \"bad tool name, retry\"  # instruct LLM to retry if bad\n",
    "            else:\n",
    "                result = self.tools[t['name']].invoke(t['args'])\n",
    "            results.append(ToolMessage(tool_call_id=t['id'], name=t['name'], content=str(result)))\n",
    "        print(\"Back to the model!\")\n",
    "        return {'messages': results}"
   ]
  },
  {
   "cell_type": "code",
   "execution_count": 6,
   "metadata": {},
   "outputs": [],
   "source": [
    "prompt = \"\"\"You are a smart research assistant. Use the search engine to look up information. \\\n",
    "You are allowed to make multiple calls (either together or in sequence). \\\n",
    "Only look up information when you are sure of what you want. \\\n",
    "If you need to look up some information before asking a follow up question, you are allowed to do that!\n",
    "\"\"\"\n",
    "\n",
    "model = ChatOpenAI(model=\"gpt-3.5-turbo\")  #reduce inference cost\n",
    "abot = Agent(model, [tool], system=prompt)"
   ]
  },
  {
   "cell_type": "code",
   "execution_count": 7,
   "metadata": {},
   "outputs": [
    {
     "name": "stdout",
     "output_type": "stream",
     "text": [
      "Calling: {'name': 'tavily_search_results_json', 'args': {'query': 'weather in San Francisco'}, 'id': 'call_O2hoBddgSzfm8vJlHGdSXsEI'}\n",
      "Back to the model!\n"
     ]
    }
   ],
   "source": [
    "messages = [HumanMessage(content=\"What is the weather in sf?\")]\n",
    "result = abot.graph.invoke({\"messages\": messages})"
   ]
  },
  {
   "cell_type": "code",
   "execution_count": 8,
   "metadata": {},
   "outputs": [
    {
     "data": {
      "text/plain": [
       "{'messages': [HumanMessage(content='What is the weather in sf?'),\n",
       "  AIMessage(content='', additional_kwargs={'tool_calls': [{'id': 'call_O2hoBddgSzfm8vJlHGdSXsEI', 'function': {'arguments': '{\"query\":\"weather in San Francisco\"}', 'name': 'tavily_search_results_json'}, 'type': 'function'}]}, response_metadata={'token_usage': {'completion_tokens': 21, 'prompt_tokens': 153, 'total_tokens': 174}, 'model_name': 'gpt-3.5-turbo-0125', 'system_fingerprint': None, 'finish_reason': 'tool_calls', 'logprobs': None}, id='run-6edba178-6087-4922-898d-65e528add44d-0', tool_calls=[{'name': 'tavily_search_results_json', 'args': {'query': 'weather in San Francisco'}, 'id': 'call_O2hoBddgSzfm8vJlHGdSXsEI'}], usage_metadata={'input_tokens': 153, 'output_tokens': 21, 'total_tokens': 174}),\n",
       "  ToolMessage(content='[{\\'url\\': \\'http://www.sfchronicle.com/weather-forecast/article/thunderstorms-lightning-tropical-california-19530762.php\\', \\'content\\': \\'Temperatures will be seasonably cool, in the upper 50s in the Sunset and Richmond districts, the low 60s in the Marina and Panhandle, and mid-60s in SoMa, downtown and the Mission. Most Popular Willie Mays’ childhood home in Alabama in poor repair, but could be restored Yosemite trail to Half Dome will be open limited hours starting in July McDonald’s at S.F.’s Stonestown mall closes after 30 years, blaming rent and higher wages Major Bay Area tech company to lay off 23% of global workforce Did progressives just lose the battle for Oakland’s political soul?  Temperatures in the Bay Area will be around seasonal averages this week, with highs near 60 at the coast and in the 70s to low 80s near the bay shoreline and 80s to low 90s inland. Weather models predict a few weak thunderstorms across the Bay Area and Central Valley on Tuesday afternoon, with stronger showers and thunderstorms over the Sierra Nevada. Lightning-sparked wildfires accounted for about half of the acreage burned in Northern California from 2001 through 2022, according to research from the National Interagency Fire Center. He joins the Chronicle from the University of Washington where he was previously the president of the campus weather forecasting team and an editor at the student newspaper, The Daily UW. \\'}, {\\'url\\': \\'http://www.sfchronicle.com/weather-forecast/article/california-thunderstorm-dry-lightning-19532152.php\\', \\'content\\': \"Here\\'s a timeline of impacts Your Daily Puzzles Pile-Up Poker Cross|word Flipart SpellTower Top of the News Exclusive: This troubled S.F. neighborhood could get a monthly block party with outdoor drinking San Francisco has seen the most dramatic drop in solar adoption across California Northern California thunderstorm, dry lightning threat peaks today Giants honor Willie Mays in touching tribute at Oracle Park: ‘He was our guy’ Best Italian restaurants in the Bay Area About Contact Services Account The North Bay, East Bay and Sacramento Valley have the highest chances of thunderstorms during the morning and early afternoon, with the threat shifting northeastward to the Sierra Nevada by the evening. He joins the Chronicle from the University of Washington where he was previously the president of the campus weather forecasting team and an editor at the student newspaper, The Daily UW.  He joins the Chronicle from the University of Washington where he was previously the president of the campus weather forecasting team and an editor at the student newspaper, The Daily UW.  Highs will be in the low 60s in Daly City, Pacifica and Half Moon Bay, mid-to upper 60s in South San Francisco and San Bruno and the mid- to upper 70s in San Mateo and Redwood City.\"}]', name='tavily_search_results_json', tool_call_id='call_O2hoBddgSzfm8vJlHGdSXsEI'),\n",
       "  AIMessage(content='The weather in San Francisco is seasonably cool with temperatures in the upper 50s in the Sunset and Richmond districts, low 60s in the Marina and Panhandle, and mid-60s in SoMa, downtown, and the Mission. Highs will be near 60 at the coast and in the 70s to low 80s near the bay shoreline and 80s to low 90s inland. There is a prediction of a few weak thunderstorms across the Bay Area and Central Valley with stronger showers and thunderstorms over the Sierra Nevada.', response_metadata={'token_usage': {'completion_tokens': 115, 'prompt_tokens': 785, 'total_tokens': 900}, 'model_name': 'gpt-3.5-turbo-0125', 'system_fingerprint': None, 'finish_reason': 'stop', 'logprobs': None}, id='run-276b0e26-1ebe-47cb-a7f8-2b13b35a6cf5-0', usage_metadata={'input_tokens': 785, 'output_tokens': 115, 'total_tokens': 900})]}"
      ]
     },
     "execution_count": 8,
     "metadata": {},
     "output_type": "execute_result"
    }
   ],
   "source": [
    "result"
   ]
  },
  {
   "cell_type": "code",
   "execution_count": 9,
   "metadata": {},
   "outputs": [
    {
     "data": {
      "text/plain": [
       "'The weather in San Francisco is seasonably cool with temperatures in the upper 50s in the Sunset and Richmond districts, low 60s in the Marina and Panhandle, and mid-60s in SoMa, downtown, and the Mission. Highs will be near 60 at the coast and in the 70s to low 80s near the bay shoreline and 80s to low 90s inland. There is a prediction of a few weak thunderstorms across the Bay Area and Central Valley with stronger showers and thunderstorms over the Sierra Nevada.'"
      ]
     },
     "execution_count": 9,
     "metadata": {},
     "output_type": "execute_result"
    }
   ],
   "source": [
    "result['messages'][-1].content"
   ]
  },
  {
   "cell_type": "code",
   "execution_count": 10,
   "metadata": {},
   "outputs": [
    {
     "name": "stdout",
     "output_type": "stream",
     "text": [
      "Calling: {'name': 'tavily_search_results_json', 'args': {'query': 'Austria F1 race 2024 winner'}, 'id': 'call_NPXFqcn10c2AqHVW2cPL4Dbx'}\n",
      "Back to the model!\n",
      "Calling: {'name': 'tavily_search_results_json', 'args': {'query': 'Austria F1 race 2024 accidents'}, 'id': 'call_EIla6SDuOc3Jxsff89Wp7DMA'}\n",
      "Back to the model!\n",
      "Calling: {'name': 'tavily_search_results_json', 'args': {'query': 'George Russell total F1 wins in career'}, 'id': 'call_FuPJ74O4rOG1Bp24D6MrMpcs'}\n",
      "Calling: {'name': 'tavily_search_results_json', 'args': {'query': 'Max Verstappen total F1 wins in career'}, 'id': 'call_5cRcxacM4qPQ8HLW4BeMVE3a'}\n",
      "Calling: {'name': 'tavily_search_results_json', 'args': {'query': 'Lando Norris total F1 wins in career'}, 'id': 'call_586102oItz8eUvJrm3aEpip5'}\n",
      "Back to the model!\n"
     ]
    }
   ],
   "source": [
    "# Note, the query was modified to produce more consistent results. \n",
    "# Results may vary per run and over time as search information and models change.\n",
    "\n",
    "query = \"Who won austria f1 race 2024? Where there any accident? \\\n",
    "get the drivers and total wins in f1 career. \\\n",
    "    \" \n",
    "messages = [HumanMessage(content=query)]\n",
    "\n",
    "model = ChatOpenAI(model=\"gpt-4o\")  # requires more advanced model\n",
    "abot = Agent(model, [tool], system=prompt)\n",
    "result = abot.graph.invoke({\"messages\": messages})"
   ]
  },
  {
   "cell_type": "code",
   "execution_count": 11,
   "metadata": {},
   "outputs": [
    {
     "name": "stdout",
     "output_type": "stream",
     "text": [
      "### Austria F1 Race 2024 Results and Incidents\n",
      "\n",
      "**Winner of the Austria F1 Race 2024:**\n",
      "- **George Russell** was the unlikely winner of the 2024 Austrian Grand Prix. This victory marked his second career F1 race win. The win was a result of a late collision between race leaders Max Verstappen and Lando Norris.\n",
      "\n",
      "**Accidents:**\n",
      "- There was a significant incident involving **Max Verstappen** and **Lando Norris**. The two drivers collided while battling for the lead, which led to their retirement from the race.\n",
      "\n",
      "### Total Wins in F1 Career\n",
      "\n",
      "**1. George Russell:**\n",
      "- **Total Wins:** 2 career F1 race wins.\n",
      "\n",
      "**2. Max Verstappen:**\n",
      "- **Total Wins:** 60 career F1 race wins. His 60th win was recorded at the Canadian Grand Prix in 2024.\n",
      "\n",
      "**3. Lando Norris:**\n",
      "- **Total Wins:** 1 career F1 race win. He secured his maiden win in Miami in 2024.\n",
      "\n",
      "### Summary\n",
      "- George Russell clinched victory at the Austria F1 race in 2024 due to a collision between Max Verstappen and Lando Norris.\n",
      "- Max Verstappen has a notable 60 career wins, Lando Norris has 1 win, and George Russell has 2 wins in their F1 careers.\n"
     ]
    }
   ],
   "source": [
    "print(result['messages'][-1].content)"
   ]
  }
 ],
 "metadata": {
  "kernelspec": {
   "display_name": ".venv",
   "language": "python",
   "name": "python3"
  },
  "language_info": {
   "codemirror_mode": {
    "name": "ipython",
    "version": 3
   },
   "file_extension": ".py",
   "mimetype": "text/x-python",
   "name": "python",
   "nbconvert_exporter": "python",
   "pygments_lexer": "ipython3",
   "version": "3.11.6"
  }
 },
 "nbformat": 4,
 "nbformat_minor": 2
}
