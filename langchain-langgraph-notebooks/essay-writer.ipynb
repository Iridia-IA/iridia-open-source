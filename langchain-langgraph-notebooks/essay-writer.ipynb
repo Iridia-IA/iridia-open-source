{
 "cells": [
  {
   "cell_type": "markdown",
   "metadata": {},
   "source": [
    "# ESSAY WRITER"
   ]
  },
  {
   "cell_type": "code",
   "execution_count": 1,
   "metadata": {},
   "outputs": [],
   "source": [
    "from dotenv import load_dotenv\n",
    "\n",
    "_ = load_dotenv()"
   ]
  },
  {
   "cell_type": "code",
   "execution_count": 2,
   "metadata": {},
   "outputs": [],
   "source": [
    "from langgraph.graph import StateGraph, END\n",
    "from typing import TypedDict, Annotated, List\n",
    "import operator\n",
    "from langgraph.checkpoint.sqlite import SqliteSaver\n",
    "from langchain_core.messages import AnyMessage, SystemMessage, HumanMessage, AIMessage, ChatMessage\n",
    "\n",
    "memory = SqliteSaver.from_conn_string(\":memory:\")"
   ]
  },
  {
   "cell_type": "code",
   "execution_count": 3,
   "metadata": {},
   "outputs": [],
   "source": [
    "class AgentState(TypedDict):\n",
    "    task: str\n",
    "    plan: str\n",
    "    draft: str\n",
    "    critique: str\n",
    "    content: List[str]\n",
    "    revision_number: int\n",
    "    max_revisions: int"
   ]
  },
  {
   "cell_type": "code",
   "execution_count": 4,
   "metadata": {},
   "outputs": [],
   "source": [
    "from langchain_openai import ChatOpenAI\n",
    "model = ChatOpenAI(model=\"gpt-3.5-turbo\", temperature=0)"
   ]
  },
  {
   "cell_type": "code",
   "execution_count": 5,
   "metadata": {},
   "outputs": [],
   "source": [
    "PLAN_PROMPT = \"\"\"You are an expert writer tasked with writing a high level outline of an essay. \\\n",
    "Write such an outline for the user provided topic. Give an outline of the essay along with any relevant notes \\\n",
    "or instructions for the sections.\"\"\""
   ]
  },
  {
   "cell_type": "code",
   "execution_count": 6,
   "metadata": {},
   "outputs": [],
   "source": [
    "WRITER_PROMPT = \"\"\"You are an essay assistant tasked with writing excellent 5-paragraph essays.\\\n",
    "Generate the best essay possible for the user's request and the initial outline. \\\n",
    "If the user provides critique, respond with a revised version of your previous attempts. \\\n",
    "Utilize all the information below as needed: \n",
    "\n",
    "------\n",
    "\n",
    "{content}\"\"\""
   ]
  },
  {
   "cell_type": "code",
   "execution_count": 7,
   "metadata": {},
   "outputs": [],
   "source": [
    "REFLECTION_PROMPT = \"\"\"You are a teacher grading an essay submission. \\\n",
    "Generate critique and recommendations for the user's submission. \\\n",
    "Provide detailed recommendations, including requests for length, depth, style, etc.\"\"\""
   ]
  },
  {
   "cell_type": "code",
   "execution_count": 8,
   "metadata": {},
   "outputs": [],
   "source": [
    "RESEARCH_PLAN_PROMPT = \"\"\"You are a researcher charged with providing information that can \\\n",
    "be used when writing the following essay. Generate a list of search queries that will gather \\\n",
    "any relevant information. Only generate 3 queries max.\"\"\"\n"
   ]
  },
  {
   "cell_type": "code",
   "execution_count": 9,
   "metadata": {},
   "outputs": [],
   "source": [
    "RESEARCH_CRITIQUE_PROMPT = \"\"\"You are a researcher charged with providing information that can \\\n",
    "be used when making any requested revisions (as outlined below). \\\n",
    "Generate a list of search queries that will gather any relevant information. Only generate 3 queries max.\"\"\"\n"
   ]
  },
  {
   "cell_type": "code",
   "execution_count": 10,
   "metadata": {},
   "outputs": [],
   "source": [
    "from langchain_core.pydantic_v1 import BaseModel\n",
    "\n",
    "class Queries(BaseModel):\n",
    "    queries: List[str]"
   ]
  },
  {
   "cell_type": "code",
   "execution_count": 11,
   "metadata": {},
   "outputs": [],
   "source": [
    "from tavily import TavilyClient\n",
    "import os\n",
    "tavily = TavilyClient(api_key=os.environ[\"TAVILY_API_KEY\"])"
   ]
  },
  {
   "cell_type": "code",
   "execution_count": 12,
   "metadata": {},
   "outputs": [],
   "source": [
    "def plan_node(state: AgentState):\n",
    "    messages = [\n",
    "        SystemMessage(content=PLAN_PROMPT), \n",
    "        HumanMessage(content=state['task'])\n",
    "    ]\n",
    "    response = model.invoke(messages)\n",
    "    return {\"plan\": response.content}"
   ]
  },
  {
   "cell_type": "code",
   "execution_count": 13,
   "metadata": {},
   "outputs": [],
   "source": [
    "def research_plan_node(state: AgentState):\n",
    "    queries = model.with_structured_output(Queries).invoke([\n",
    "        SystemMessage(content=RESEARCH_PLAN_PROMPT),\n",
    "        HumanMessage(content=state['task'])\n",
    "    ])\n",
    "    content = state['content'] or []\n",
    "    for q in queries.queries:\n",
    "        response = tavily.search(query=q, max_results=2)\n",
    "        for r in response['results']:\n",
    "            content.append(r['content'])\n",
    "    return {\"content\": content}"
   ]
  },
  {
   "cell_type": "code",
   "execution_count": 14,
   "metadata": {},
   "outputs": [],
   "source": [
    "def generation_node(state: AgentState):\n",
    "    content = \"\\n\\n\".join(state['content'] or [])\n",
    "    user_message = HumanMessage(\n",
    "        content=f\"{state['task']}\\n\\nHere is my plan:\\n\\n{state['plan']}\")\n",
    "    messages = [\n",
    "        SystemMessage(\n",
    "            content=WRITER_PROMPT.format(content=content)\n",
    "        ),\n",
    "        user_message\n",
    "        ]\n",
    "    response = model.invoke(messages)\n",
    "    return {\n",
    "        \"draft\": response.content, \n",
    "        \"revision_number\": state.get(\"revision_number\", 1) + 1\n",
    "    }\n"
   ]
  },
  {
   "cell_type": "code",
   "execution_count": 15,
   "metadata": {},
   "outputs": [],
   "source": [
    "def reflection_node(state: AgentState):\n",
    "    messages = [\n",
    "        SystemMessage(content=REFLECTION_PROMPT), \n",
    "        HumanMessage(content=state['draft'])\n",
    "    ]\n",
    "    response = model.invoke(messages)\n",
    "    return {\"critique\": response.content}"
   ]
  },
  {
   "cell_type": "code",
   "execution_count": 16,
   "metadata": {},
   "outputs": [],
   "source": [
    "def research_critique_node(state: AgentState):\n",
    "    queries = model.with_structured_output(Queries).invoke([\n",
    "        SystemMessage(content=RESEARCH_CRITIQUE_PROMPT),\n",
    "        HumanMessage(content=state['critique'])\n",
    "    ])\n",
    "    content = state['content'] or []\n",
    "    for q in queries.queries:\n",
    "        response = tavily.search(query=q, max_results=2)\n",
    "        for r in response['results']:\n",
    "            content.append(r['content'])\n",
    "    return {\"content\": content}"
   ]
  },
  {
   "cell_type": "code",
   "execution_count": 17,
   "metadata": {},
   "outputs": [],
   "source": [
    "def should_continue(state):\n",
    "    if state[\"revision_number\"] > state[\"max_revisions\"]:\n",
    "        return END\n",
    "    return \"reflect\""
   ]
  },
  {
   "cell_type": "code",
   "execution_count": 18,
   "metadata": {},
   "outputs": [],
   "source": [
    "builder = StateGraph(AgentState)"
   ]
  },
  {
   "cell_type": "code",
   "execution_count": 19,
   "metadata": {},
   "outputs": [],
   "source": [
    "builder.add_node(\"planner\", plan_node)\n",
    "builder.add_node(\"generate\", generation_node)\n",
    "builder.add_node(\"reflect\", reflection_node)\n",
    "builder.add_node(\"research_plan\", research_plan_node)\n",
    "builder.add_node(\"research_critique\", research_critique_node)"
   ]
  },
  {
   "cell_type": "code",
   "execution_count": 20,
   "metadata": {},
   "outputs": [],
   "source": [
    "builder.set_entry_point(\"planner\")"
   ]
  },
  {
   "cell_type": "code",
   "execution_count": 21,
   "metadata": {},
   "outputs": [],
   "source": [
    "builder.add_conditional_edges(\n",
    "    \"generate\", \n",
    "    should_continue, \n",
    "    {END: END, \"reflect\": \"reflect\"}\n",
    ")\n"
   ]
  },
  {
   "cell_type": "code",
   "execution_count": 22,
   "metadata": {},
   "outputs": [],
   "source": [
    "builder.add_edge(\"planner\", \"research_plan\")\n",
    "builder.add_edge(\"research_plan\", \"generate\")\n",
    "\n",
    "builder.add_edge(\"reflect\", \"research_critique\")\n",
    "builder.add_edge(\"research_critique\", \"generate\")"
   ]
  },
  {
   "cell_type": "code",
   "execution_count": 23,
   "metadata": {},
   "outputs": [],
   "source": [
    "graph = builder.compile(checkpointer=memory)"
   ]
  },
  {
   "cell_type": "code",
   "execution_count": 24,
   "metadata": {},
   "outputs": [
    {
     "name": "stdout",
     "output_type": "stream",
     "text": [
      "{'planner': {'plan': 'I. Introduction\\n    A. Brief overview of Langchain and Langsmith\\n    B. Thesis statement: Exploring the differences between Langchain and Langsmith\\n\\nII. Langchain\\n    A. Definition and explanation\\n    B. Key features and characteristics\\n    C. Use cases and applications\\n    D. Advantages and disadvantages\\n\\nIII. Langsmith\\n    A. Definition and explanation\\n    B. Key features and characteristics\\n    C. Use cases and applications\\n    D. Advantages and disadvantages\\n\\nIV. Comparison between Langchain and Langsmith\\n    A. Technology stack\\n    B. Scalability\\n    C. Security\\n    D. Interoperability\\n    E. Performance\\n\\nV. Conclusion\\n    A. Recap of main differences between Langchain and Langsmith\\n    B. Implications for future development and adoption\\n    C. Final thoughts on the significance of these technologies\\n\\nNotes:\\n- Ensure a clear and concise explanation of both Langchain and Langsmith.\\n- Provide specific examples of use cases to illustrate the differences between the two technologies.\\n- Use comparative analysis to highlight the unique features and benefits of each technology.\\n- Conclude with insights on the potential impact of Langchain and Langsmith on the industry.'}}\n",
      "{'research_plan': {'content': ['Defined Agent\\nConsidering the agent, notice the only tool defined for this agent:\\nThe prompt at the centre of this Agent is fetched with the code below:\\nAnd the prompt retrieved from the prompt hub:\\nThe code to run the agent:\\nAnd the output from the Agent:\\n By signing up, you will create a Medium account if you don’t already…\\ncobusgreyling.medium.com\\nGoogle Colaboratory\\nEdit description\\ncolab.research.google.com\\nLangSmith Walkthrough | 🦜️🔗 Langchain\\nOpen In Colab\\npython.langchain.com\\n--\\n--\\nWritten by Cobus Greyling\\nI explore and write about all things at the intersection of AI & language; LLMs/NLP/NLU, Chat/Voicebots, CCAI. www.cobusgreyling.com\\n In this article I only consider three of the five tools within LangSmith; Projects, Datasets & Testing & Hub.\\nRun An Agent While Logging Traces\\nWhenever a new project is created within LangSmith, under the Setup tab the code snippets are shown, which can be include in your code to reference and log traces to the LangSmith project.\\n Help\\nStatus\\nAbout\\nCareers\\nBlog\\nPrivacy\\nTerms\\nText to speech\\nTeams The prompt is imported from the LangSmith prompt hub:\\nThe evaluation process is run, this fetches the example rows from the specified datasets.\\n', 'Jul 24, 2023 · In this post, we will explore the latest product by the team that created Langchain (the most popular LLM software tool) and see what new parts\\xa0...', \"Introduction. LangChain is a framework for developing applications powered by large language models (LLMs).. LangChain simplifies every stage of the LLM application lifecycle: Development: Build your applications using LangChain's open-source building blocks, components, and third-party integrations.Use LangGraph to build stateful agents with first-class streaming and human-in-the-loop support.\", 'Sign up\\nSign in\\nSign up\\nSign in\\nIntroducing LangChain: a beginner’s guide 🦜️🔗\\nBuild applications with LLMs using LangChain\\nEllen Hoeven\\nFollow\\n--\\nListen\\nShare\\nHave you heard the term LangChain but not sure what exactly it is about? 🚀\\n--\\n--\\nWritten by Ellen Hoeven\\nData Science and ML | Story telling | Curious, creative, data-driven | Responsible & interpretable ML | Building cool stuff | ML in Healthcare\\nHelp\\nStatus\\nAbout\\nCareers\\nBlog\\nPrivacy\\nTerms\\nText to speech\\nTeams Create embeddings and initialize vector store\\nCreate chain\\nAsk questions\\nOutlook\\nWith LLMs emerging as a transformative technology, LangChain comes in exactly at the right time —\\nWhile this article focuses on the Python implementation, there is also a very popular JavaScript implementation of the LangChain library.\\n https://github.com/kyrolabs/awesome-langchain\\nLangChain Tutorials and Cookbooks: https://github.com/gkamradt/langchain-tutorials\\nChat your data Tutorial: https://github.com/hwchase17/chat-your-data\\nRetrieval QA: https://python.langchain.com/docs/modules/chains/popular/vector_db_qa\\nThere are many super cool ideas, tutorials and articles about LangChain out there with a steadily growing content base.\\n With the many functionalities and modules provided, it can be hard to wrap your head around everything LangChain has to offer — but luckily, there are many great articles and tutorials out there, guiding you from your very first steps with LangChain to advanced projects.\\n', \"By signing up you agree to our Privacy Policy Share this article Advertisement Most Popular Penn State Class of 2025 profile for four-star WR Jeff Exinor Jr. Penn State working to flip Ohio State edge rusher commit Andrew Rappleyea's 2024 Penn State football player profile Elite 2025 offensive lineman says Penn State 'feels like family' Mason Robinson's 2024 Penn State football profile Abdul Carter's 2024 Penn State football player profile Khalil Dinkins' 2024 Penn State football player profile Advertisement Follow Nittany Lions Wire!  Miscellaneous Info Geoff Burke-USA TODAY Sports Follow Vilbert on X: @SmithVilbert2 Follow Vilbert on Instagram: @smith_youngin Like this article? Sign up for our newsletter to get updates to your inbox, and also receive offers from us, our affiliates and partners. Sections Advertisement Smith Vilbert's 2024 Penn State football profile Share this article Going into the 2024 football season, Nittany Lions Wire will examine each player listed on the Penn State roster. Career Stats Scott Taetsch/Getty Images Depth Chart Overview Matt Pendleton-USA TODAY Sports Smith Vilbert looks to be one of the top backup options on the roster after missing out on the 2023 season due to injury. Redshirt Senior+ As one of the top players on the radar from New Jersey, it was easy for Penn State to become an early favorite on the recruiting trail.\", \"Here are Larry the Cat's most mischievous moments at Downing Street Strange cases break out in a remote Welsh village A dark thriller about the collision of medicine and something infinitely stranger Twelve days that changed Wayne Rooneyâ\\x80\\x99s life forever The star footballer reflects on the highs and lows of the career-defining 2004 Euro tournament Drama, late goals and heartbreak at the Euros Gary Lineker, Alan Shearer and Micah Richards pick the best matches ever played at the tournament Elsewhere in Sport Norris 'happy with 99% of things' but needs extra 1% to beat Verstappen Jordan takes hat-trick and four wickets in five balls. Six key charts Where do England need to improve to beat All Blacks? Deschamps 'unconcerned' as France struggle without Mbappe Highlights: VAR controversy as Netherlands v France ends goalless VideoHighlights: VAR controversy as Netherlands v France ends goalless Joshua doesn't want son to take up boxing 'England are about to really feel the pressure' 'Baffling and concerning' - what is wrong with England?  Report supplied by the ECB Reporters' Network Related Topics More on this story Get cricket news sent straight to your phone Comments can not be loaded To load Comments you need to enable JavaScript in your browser Top Stories Euro 2024: Watch Scotland still goalless with Hungary after penalty denied & stricken Varga carried off England thrash USA to secure semi-final place Norris 'happy with 99% of things' but needs extra 1% to beat Verstappen Elsewhere on the BBC From photobombing presidents to fighting feline rivals  Allison, signed because of injuries to Joe Leach, Ben Gibbon and Yadvinder Singh, bowled an excellent opening spell of 7-3-10-1. But Sibley was in excellent touch, straight driving and cover-driving Adam Finch for boundaries, and coming down the wicket to hit Shoaib Bashir down the ground for four after he came into the attack. \"]}}\n",
      "{'generate': {'draft': \"**Essay:**\\n\\n**I. Introduction**\\n\\nLangChain and LangSmith are two prominent tools in the realm of AI and language technologies. LangChain is a framework designed for developing applications powered by large language models (LLMs), while LangSmith offers a suite of tools focusing on Projects, Datasets, Testing, and Hub. This essay aims to delve into the disparities between LangChain and LangSmith, shedding light on their unique attributes and functionalities.\\n\\n**II. LangChain**\\n\\nLangChain is a comprehensive framework that simplifies the entire lifecycle of LLM applications. It provides open-source building blocks, components, and third-party integrations. Key features of LangChain include LangGraph for building stateful agents with streaming capabilities and human-in-the-loop support. Use cases for LangChain span various industries, such as healthcare, data science, and storytelling. While LangChain offers flexibility and robust development tools, it may have a steeper learning curve for beginners due to its extensive functionalities.\\n\\n**III. LangSmith**\\n\\nIn contrast, LangSmith is a tool that primarily focuses on Projects, Datasets, Testing, and Hub within the AI and language domain. It offers code snippets for referencing and logging traces to projects, making it easier to track progress and manage datasets efficiently. LangSmith is known for its user-friendly interface and streamlined approach to project management. However, its scope is more limited compared to LangChain, as it does not provide the same level of development framework and integrations.\\n\\n**IV. Comparison between LangChain and LangSmith**\\n\\n**A. Technology Stack:**\\nLangChain boasts a robust technology stack tailored for building complex LLM applications, while LangSmith's technology stack is more geared towards project management and dataset handling.\\n\\n**B. Scalability:**\\nLangChain offers scalability for developing intricate applications with large language models, whereas LangSmith's scalability is more focused on managing and organizing AI projects.\\n\\n**C. Security:**\\nLangChain emphasizes security features for handling sensitive data within applications, whereas LangSmith prioritizes data security within the context of project management and dataset storage.\\n\\n**D. Interoperability:**\\nLangChain provides seamless integrations with various tools and libraries, promoting interoperability, while LangSmith may have limited interoperability options due to its specific focus on project-related tasks.\\n\\n**E. Performance:**\\nLangChain is optimized for high-performance applications leveraging LLMs, whereas LangSmith's performance metrics are centered around project efficiency and dataset management.\\n\\n**V. Conclusion**\\n\\nIn conclusion, the disparities between LangChain and LangSmith lie in their core functionalities, target users, and application scopes. While LangChain excels in providing a comprehensive framework for LLM applications, LangSmith stands out for its user-friendly project management tools. Understanding these differences is crucial for developers and organizations looking to leverage AI and language technologies effectively. As the industry evolves, both LangChain and LangSmith are poised to play significant roles in shaping the future of AI applications and project management.\", 'revision_number': 2}}\n",
      "{'reflect': {'critique': \"**Critique:**\\n\\nThe essay provides a clear and structured comparison between LangChain and LangSmith, highlighting their key features and differences effectively. The introduction sets the stage well by introducing the two tools and stating the purpose of the essay. Each section is well-segmented, making it easy for the reader to follow the comparison between the two tools.\\n\\n**Recommendations:**\\n\\n1. **Depth and Analysis:** While the essay covers the basic functionalities and differences between LangChain and LangSmith, it would benefit from a deeper analysis of specific use cases or examples where each tool excels. Providing real-world scenarios or case studies could enhance the reader's understanding of how these tools are applied in practice.\\n\\n2. **Expansion on Features:** Consider expanding on the features of LangChain and LangSmith to provide a more comprehensive overview. For LangChain, delve deeper into the components of LangGraph and how they contribute to building stateful agents. For LangSmith, elaborate on the specific tools within Projects, Datasets, Testing, and Hub to give a clearer picture of its functionalities.\\n\\n3. **User Experience Comparison:** While the essay briefly touches on user-friendliness, consider exploring this aspect further. How do the user interfaces of LangChain and LangSmith differ? Are there any user experience design principles that set them apart? Providing insights into the user experience could add a valuable dimension to the comparison.\\n\\n4. **Practical Examples:** Incorporating practical examples or case studies where developers or organizations have successfully utilized LangChain or LangSmith could make the comparison more engaging and relatable. This would also demonstrate the real-world impact of these tools in different industries.\\n\\n5. **Conclusion Reflection:** In the conclusion, consider reflecting on the potential future developments or trends in AI and language technologies that could further differentiate LangChain and LangSmith. Speculating on how these tools might evolve to meet changing industry demands could add a forward-looking perspective to the essay.\\n\\n6. **Length and Detail:** While the essay provides a good overview, expanding on each section with more detailed explanations, examples, and comparisons could enhance the depth of analysis. Aim to provide a balance between breadth and depth to offer a comprehensive understanding of the topic.\\n\\nOverall, the essay is well-structured and informative, but incorporating the above recommendations could enrich the comparison between LangChain and LangSmith and provide a more insightful analysis for the reader.\"}}\n",
      "{'research_critique': {'content': ['Defined Agent\\nConsidering the agent, notice the only tool defined for this agent:\\nThe prompt at the centre of this Agent is fetched with the code below:\\nAnd the prompt retrieved from the prompt hub:\\nThe code to run the agent:\\nAnd the output from the Agent:\\n By signing up, you will create a Medium account if you don’t already…\\ncobusgreyling.medium.com\\nGoogle Colaboratory\\nEdit description\\ncolab.research.google.com\\nLangSmith Walkthrough | 🦜️🔗 Langchain\\nOpen In Colab\\npython.langchain.com\\n--\\n--\\nWritten by Cobus Greyling\\nI explore and write about all things at the intersection of AI & language; LLMs/NLP/NLU, Chat/Voicebots, CCAI. www.cobusgreyling.com\\n In this article I only consider three of the five tools within LangSmith; Projects, Datasets & Testing & Hub.\\nRun An Agent While Logging Traces\\nWhenever a new project is created within LangSmith, under the Setup tab the code snippets are shown, which can be include in your code to reference and log traces to the LangSmith project.\\n Help\\nStatus\\nAbout\\nCareers\\nBlog\\nPrivacy\\nTerms\\nText to speech\\nTeams The prompt is imported from the LangSmith prompt hub:\\nThe evaluation process is run, this fetches the example rows from the specified datasets.\\n', 'Jul 24, 2023 · In this post, we will explore the latest product by the team that created Langchain (the most popular LLM software tool) and see what new parts\\xa0...', \"Introduction. LangChain is a framework for developing applications powered by large language models (LLMs).. LangChain simplifies every stage of the LLM application lifecycle: Development: Build your applications using LangChain's open-source building blocks, components, and third-party integrations.Use LangGraph to build stateful agents with first-class streaming and human-in-the-loop support.\", 'Sign up\\nSign in\\nSign up\\nSign in\\nIntroducing LangChain: a beginner’s guide 🦜️🔗\\nBuild applications with LLMs using LangChain\\nEllen Hoeven\\nFollow\\n--\\nListen\\nShare\\nHave you heard the term LangChain but not sure what exactly it is about? 🚀\\n--\\n--\\nWritten by Ellen Hoeven\\nData Science and ML | Story telling | Curious, creative, data-driven | Responsible & interpretable ML | Building cool stuff | ML in Healthcare\\nHelp\\nStatus\\nAbout\\nCareers\\nBlog\\nPrivacy\\nTerms\\nText to speech\\nTeams Create embeddings and initialize vector store\\nCreate chain\\nAsk questions\\nOutlook\\nWith LLMs emerging as a transformative technology, LangChain comes in exactly at the right time —\\nWhile this article focuses on the Python implementation, there is also a very popular JavaScript implementation of the LangChain library.\\n https://github.com/kyrolabs/awesome-langchain\\nLangChain Tutorials and Cookbooks: https://github.com/gkamradt/langchain-tutorials\\nChat your data Tutorial: https://github.com/hwchase17/chat-your-data\\nRetrieval QA: https://python.langchain.com/docs/modules/chains/popular/vector_db_qa\\nThere are many super cool ideas, tutorials and articles about LangChain out there with a steadily growing content base.\\n With the many functionalities and modules provided, it can be hard to wrap your head around everything LangChain has to offer — but luckily, there are many great articles and tutorials out there, guiding you from your very first steps with LangChain to advanced projects.\\n', \"By signing up you agree to our Privacy Policy Share this article Advertisement Most Popular Penn State Class of 2025 profile for four-star WR Jeff Exinor Jr. Penn State working to flip Ohio State edge rusher commit Andrew Rappleyea's 2024 Penn State football player profile Elite 2025 offensive lineman says Penn State 'feels like family' Mason Robinson's 2024 Penn State football profile Abdul Carter's 2024 Penn State football player profile Khalil Dinkins' 2024 Penn State football player profile Advertisement Follow Nittany Lions Wire!  Miscellaneous Info Geoff Burke-USA TODAY Sports Follow Vilbert on X: @SmithVilbert2 Follow Vilbert on Instagram: @smith_youngin Like this article? Sign up for our newsletter to get updates to your inbox, and also receive offers from us, our affiliates and partners. Sections Advertisement Smith Vilbert's 2024 Penn State football profile Share this article Going into the 2024 football season, Nittany Lions Wire will examine each player listed on the Penn State roster. Career Stats Scott Taetsch/Getty Images Depth Chart Overview Matt Pendleton-USA TODAY Sports Smith Vilbert looks to be one of the top backup options on the roster after missing out on the 2023 season due to injury. Redshirt Senior+ As one of the top players on the radar from New Jersey, it was easy for Penn State to become an early favorite on the recruiting trail.\", \"Here are Larry the Cat's most mischievous moments at Downing Street Strange cases break out in a remote Welsh village A dark thriller about the collision of medicine and something infinitely stranger Twelve days that changed Wayne Rooneyâ\\x80\\x99s life forever The star footballer reflects on the highs and lows of the career-defining 2004 Euro tournament Drama, late goals and heartbreak at the Euros Gary Lineker, Alan Shearer and Micah Richards pick the best matches ever played at the tournament Elsewhere in Sport Norris 'happy with 99% of things' but needs extra 1% to beat Verstappen Jordan takes hat-trick and four wickets in five balls. Six key charts Where do England need to improve to beat All Blacks? Deschamps 'unconcerned' as France struggle without Mbappe Highlights: VAR controversy as Netherlands v France ends goalless VideoHighlights: VAR controversy as Netherlands v France ends goalless Joshua doesn't want son to take up boxing 'England are about to really feel the pressure' 'Baffling and concerning' - what is wrong with England?  Report supplied by the ECB Reporters' Network Related Topics More on this story Get cricket news sent straight to your phone Comments can not be loaded To load Comments you need to enable JavaScript in your browser Top Stories Euro 2024: Watch Scotland still goalless with Hungary after penalty denied & stricken Varga carried off England thrash USA to secure semi-final place Norris 'happy with 99% of things' but needs extra 1% to beat Verstappen Elsewhere on the BBC From photobombing presidents to fighting feline rivals  Allison, signed because of injuries to Joe Leach, Ben Gibbon and Yadvinder Singh, bowled an excellent opening spell of 7-3-10-1. But Sibley was in excellent touch, straight driving and cover-driving Adam Finch for boundaries, and coming down the wicket to hit Shoaib Bashir down the ground for four after he came into the attack. \", 'Defined Agent\\nConsidering the agent, notice the only tool defined for this agent:\\nThe prompt at the centre of this Agent is fetched with the code below:\\nAnd the prompt retrieved from the prompt hub:\\nThe code to run the agent:\\nAnd the output from the Agent:\\n By signing up, you will create a Medium account if you don’t already…\\ncobusgreyling.medium.com\\nGoogle Colaboratory\\nEdit description\\ncolab.research.google.com\\nLangSmith Walkthrough | 🦜️🔗 Langchain\\nOpen In Colab\\npython.langchain.com\\n--\\n--\\nWritten by Cobus Greyling\\nI explore and write about all things at the intersection of AI & language; LLMs/NLP/NLU, Chat/Voicebots, CCAI. www.cobusgreyling.com\\n In this article I only consider three of the five tools within LangSmith; Projects, Datasets & Testing & Hub.\\nRun An Agent While Logging Traces\\nWhenever a new project is created within LangSmith, under the Setup tab the code snippets are shown, which can be include in your code to reference and log traces to the LangSmith project.\\n Help\\nStatus\\nAbout\\nCareers\\nBlog\\nPrivacy\\nTerms\\nText to speech\\nTeams The prompt is imported from the LangSmith prompt hub:\\nThe evaluation process is run, this fetches the example rows from the specified datasets.\\n', \"Feb 20, 2024 · In this case, LangChain could be the optimal platform. The business could use LangChain's framework to construct a bot that comprehends and\\xa0...\", 'LangGraph is a library for building stateful, multi-actor applications with LLMs, used to create agent and multi-agent workflows. Compared to other LLM frameworks, it offers these core benefits: cycles, controllability, and persistence. LangGraph allows you to define flows that involve cycles, essential for most agentic architectures ...', 'LangGraph.js is an extension of langchain aimed at building robust and stateful multi-actor applications with LLMs by modeling steps as edges and nodes in a graph. ... Many LangChain components implement the Runnable protocol, including chat models, LLMs, output parsers, retrievers, prompt templates, and more. There are also several useful ...', '', 'Jan 21, 2024 · In this article I only consider three of the five tools within LangSmith; Projects, Datasets & Testing & Hub. Run An Agent While Logging Traces.', 'For a detailed understanding of the impact of self-improvement, two auxiliary metrics are introduced: (a) a measure to analyze capabilities gained and lost by the agent, and (b) an extension of the VERTEX score to measure the quality of agent trajectories of different lengths.  Across Diverse Scenarios Aligning Large Language Models with Diverse User Preferences Using Multifaceted System Messages: The JANUS Approach Top 12 Trending LLM Leaderboards: A Guide to Leading AI Models’ Evaluation Neurobiological Inspiration for AI: The HippoRAG Framework for Long-Term LLM Memory Top AI Courses Offered by Intel Researchers at Microsoft Introduce Aurora: A Large-Scale Foundation Model of the Atmosphere Trained on... LLM-QFA Framework: Top AI Courses Offered by Intel Researchers at Microsoft Introduce Aurora: A Large-Scale Foundation Model of the Atmosphere Trained on Over a Million Hours of Diverse Weather and Climate Data LLM-QFA Framework: A Once-for-All Quantization-Aware Training Approach to Reduce the Training Cost of Deploying Large Language Models (LLMs) However, importance is given to the supervised filtering that does not explore generating novel tasks and synthetic data Researchers from the University of Pennsylvania, ExtensityAI, Johannes Kepler University Linz, and NXAI introduced new techniques that allow LLM agents to solve complex and multistep tasks through self-improvement. Moreover, researchers performed multiple experiments to fine-tune agent models on the synthetic training data mixtures and determine the self-improvement of the agent model over the base agent model through evaluation metrics.', 'To be clear, some of these exercises were difficult and asked you to differentiate between a word with back-to-back \"Cs\" as opposed to a singular \"C.\" In other cases the words were different by one letter, but the different letter would be a \"Z\" instead of \"G\" or something similar.  I used the free version of the app the majority of the time and had access to the same language lessons as the premium version, Duolingo Super, which starts at $7 a month.  Can interweave his/her contribution into the joint discourse with fully natural turntaking, referencing, allusion making, etc.\" I understand this to mean a person with a C2 proficiency is a native-speaker or someone who has immersed themselves in a given language, maybe by living in the country for an extended period of time. So while you might be on a lesson about how to buy something at a store, that lesson still uses words and structures similar to those you learned in the lesson on ordering at a cafe.  \" Compare that to how the council describes a person\\'s language interactions at the highest level of CEFR, called C2: \"Can interact with ease and skill, picking up and using nonverbal and intonational cues apparently effortlessly.']}}\n",
      "{'generate': {'draft': \"**Revised Essay:**\\n\\n**I. Introduction**\\n\\nLangchain and Langsmith are two distinct frameworks that serve different purposes in the realm of AI and language technologies. While both are valuable tools, they have unique features that set them apart. This essay aims to delve into the disparities between Langchain and Langsmith to provide a comprehensive understanding of their functionalities and applications.\\n\\n**II. Langchain**\\n\\nLangchain is a framework designed for developing applications powered by large language models (LLMs). It simplifies the process of building applications by offering open-source building blocks, components, and integrations. LangGraph, a component of Langchain, enables the creation of stateful agents with streaming capabilities and human-in-the-loop support. Use cases of Langchain include chatbots, voice assistants, and natural language processing applications. Its advantages lie in its ease of development and robust support for LLM-based projects.\\n\\n**III. Langsmith**\\n\\nOn the other hand, Langsmith is a platform that focuses on specific tools within its ecosystem, such as Projects, Datasets, Testing, and Hub. It provides functionalities for managing projects, handling datasets, and testing models. Langsmith is ideal for developers looking to streamline their workflow by logging traces and referencing project-specific code snippets. Its advantages include efficient project management and simplified testing processes.\\n\\n**IV. Comparison between Langchain and Langsmith**\\n\\n**A. Technology Stack:**\\nLangchain emphasizes the development of applications using LLMs, offering a comprehensive set of tools for this purpose. In contrast, Langsmith concentrates on project management and testing within its defined tools.\\n\\n**B. Scalability:**\\nLangchain's architecture is geared towards scalability, allowing developers to build complex applications with ease. Langsmith, while efficient for its intended tools, may have limitations in scalability beyond its defined functionalities.\\n\\n**C. Security:**\\nBoth Langchain and Langsmith prioritize security; however, the focus may differ based on the nature of the tools. Langchain's security measures are tailored to LLM applications, whereas Langsmith ensures data security within its project management scope.\\n\\n**D. Interoperability:**\\nLangchain offers interoperability with various systems and languages, enabling seamless integration with existing frameworks. Langsmith's interoperability may be more restricted due to its specific toolset.\\n\\n**E. Performance:**\\nIn terms of performance, Langchain's emphasis on LLM-powered applications may require higher computational resources compared to Langsmith, which is more focused on project management and testing functionalities.\\n\\n**V. Conclusion**\\n\\nIn conclusion, Langchain and Langsmith cater to different aspects of AI and language technology development. While Langchain excels in building applications with LLMs, Langsmith provides efficient project management tools. Understanding the distinctions between these frameworks is crucial for developers to choose the right tool for their specific needs. The impact of Langchain and Langsmith on the industry signifies a shift towards more specialized and tailored solutions in the AI landscape, paving the way for innovative applications and advancements in language technologies.\", 'revision_number': 3}}\n"
     ]
    }
   ],
   "source": [
    "thread = {\"configurable\": {\"thread_id\": \"1\"}}\n",
    "for s in graph.stream({\n",
    "    'task': \"what is the difference between langchain and langsmith\",\n",
    "    \"max_revisions\": 2,\n",
    "    \"revision_number\": 1,\n",
    "}, thread):\n",
    "    print(s)"
   ]
  }
 ],
 "metadata": {
  "kernelspec": {
   "display_name": ".venv",
   "language": "python",
   "name": "python3"
  },
  "language_info": {
   "codemirror_mode": {
    "name": "ipython",
    "version": 3
   },
   "file_extension": ".py",
   "mimetype": "text/x-python",
   "name": "python",
   "nbconvert_exporter": "python",
   "pygments_lexer": "ipython3",
   "version": "3.11.6"
  }
 },
 "nbformat": 4,
 "nbformat_minor": 2
}
